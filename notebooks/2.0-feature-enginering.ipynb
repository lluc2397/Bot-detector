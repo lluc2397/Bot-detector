{
 "cells": [
  {
   "cell_type": "code",
   "execution_count": 46,
   "metadata": {},
   "outputs": [],
   "source": [
    "import pandas as pd\n",
    "from pathlib import Path"
   ]
  },
  {
   "cell_type": "code",
   "execution_count": 47,
   "metadata": {},
   "outputs": [],
   "source": [
    "ROOT_DIR = Path().resolve(strict=True).parent\n",
    "DOMAIN = \"https://inversionesyfinanzas.xyz\"\n",
    "DATA_DIR = f\"{ROOT_DIR}/data/\"\n",
    "df = pd.read_parquet(f\"{DATA_DIR}/interim/country_codes.parquet\")\n",
    "\n",
    "# From here we know that possible null values in country_code and http_user_agent has been replaced.\n",
    "# We can see that current_path and comes_from are irregular and, might have null values. We'll then proceed to clen them\n",
    "# We'll also change the is_bot from f or t to 0 or 1. "
   ]
  },
  {
   "cell_type": "code",
   "execution_count": 48,
   "metadata": {},
   "outputs": [
    {
     "data": {
      "text/plain": [
       "Index(['date', 'current_path', 'comes_from', 'user_id', 'ip',\n",
       "       'http_user_agent', 'country_code', 'is_bot'],\n",
       "      dtype='object')"
      ]
     },
     "execution_count": 48,
     "metadata": {},
     "output_type": "execute_result"
    }
   ],
   "source": [
    "df.columns"
   ]
  },
  {
   "cell_type": "code",
   "execution_count": 49,
   "metadata": {},
   "outputs": [
    {
     "name": "stdout",
     "output_type": "stream",
     "text": [
      "<class 'pandas.core.frame.DataFrame'>\n",
      "RangeIndex: 442218 entries, 0 to 442217\n",
      "Data columns (total 8 columns):\n",
      " #   Column           Non-Null Count   Dtype   \n",
      "---  ------           --------------   -----   \n",
      " 0   date             442218 non-null  object  \n",
      " 1   current_path     442218 non-null  category\n",
      " 2   comes_from       442218 non-null  category\n",
      " 3   user_id          442218 non-null  int16   \n",
      " 4   ip               442218 non-null  category\n",
      " 5   http_user_agent  442218 non-null  category\n",
      " 6   country_code     442218 non-null  category\n",
      " 7   is_bot           442218 non-null  bool    \n",
      "dtypes: bool(1), category(5), int16(1), object(1)\n",
      "memory usage: 12.4+ MB\n"
     ]
    }
   ],
   "source": [
    "df.info()"
   ]
  },
  {
   "cell_type": "code",
   "execution_count": 50,
   "metadata": {},
   "outputs": [
    {
     "data": {
      "text/plain": [
       "(442218, 8)"
      ]
     },
     "execution_count": 50,
     "metadata": {},
     "output_type": "execute_result"
    }
   ],
   "source": [
    "df.shape"
   ]
  },
  {
   "cell_type": "code",
   "execution_count": 51,
   "metadata": {},
   "outputs": [
    {
     "data": {
      "text/plain": [
       "date                 object\n",
       "current_path       category\n",
       "comes_from         category\n",
       "user_id               int16\n",
       "ip                 category\n",
       "http_user_agent    category\n",
       "country_code       category\n",
       "is_bot                 bool\n",
       "dtype: object"
      ]
     },
     "execution_count": 51,
     "metadata": {},
     "output_type": "execute_result"
    }
   ],
   "source": [
    "df.dtypes"
   ]
  },
  {
   "cell_type": "code",
   "execution_count": 52,
   "metadata": {},
   "outputs": [
    {
     "data": {
      "text/plain": [
       "{'date': {str}}"
      ]
     },
     "execution_count": 52,
     "metadata": {},
     "output_type": "execute_result"
    }
   ],
   "source": [
    "{col: set(map(type, df[col])) for col in df.select_dtypes(include=[object])}\n",
    "# Get the type of the objects"
   ]
  },
  {
   "cell_type": "code",
   "execution_count": 53,
   "metadata": {},
   "outputs": [],
   "source": [
    "df[\"http_user_agent\"] = df[\"http_user_agent\"].astype(\"category\")\n",
    "df[\"comes_from\"] = df[\"comes_from\"].astype(\"category\")\n",
    "df[\"current_path\"] = df[\"current_path\"].astype(\"category\")\n",
    "df[\"ip\"] = df[\"ip\"].astype(\"category\")\n",
    "df[\"country_code\"] = df[\"country_code\"].astype(\"category\")\n",
    "df[\"ip\"] = df[\"ip\"].astype(\"category\")\n",
    "df[\"user_id\"] = df[\"user_id\"].astype(\"int16\")\n",
    "\n",
    "# df[\"is_bot\"] = df[\"is_bot\"].map({0: False, 1:True})"
   ]
  },
  {
   "cell_type": "code",
   "execution_count": 54,
   "metadata": {},
   "outputs": [
    {
     "name": "stdout",
     "output_type": "stream",
     "text": [
      "<class 'pandas.core.frame.DataFrame'>\n",
      "RangeIndex: 442218 entries, 0 to 442217\n",
      "Data columns (total 8 columns):\n",
      " #   Column           Non-Null Count   Dtype   \n",
      "---  ------           --------------   -----   \n",
      " 0   date             442218 non-null  object  \n",
      " 1   current_path     442218 non-null  category\n",
      " 2   comes_from       442218 non-null  category\n",
      " 3   user_id          442218 non-null  int16   \n",
      " 4   ip               442218 non-null  category\n",
      " 5   http_user_agent  442218 non-null  category\n",
      " 6   country_code     442218 non-null  category\n",
      " 7   is_bot           442218 non-null  bool    \n",
      "dtypes: bool(1), category(5), int16(1), object(1)\n",
      "memory usage: 12.4+ MB\n"
     ]
    }
   ],
   "source": [
    "df.info()"
   ]
  },
  {
   "cell_type": "code",
   "execution_count": 55,
   "metadata": {},
   "outputs": [],
   "source": [
    "df['date'] = pd.to_datetime(df['date'])"
   ]
  },
  {
   "cell_type": "code",
   "execution_count": 56,
   "metadata": {},
   "outputs": [
    {
     "name": "stdout",
     "output_type": "stream",
     "text": [
      "<class 'pandas.core.frame.DataFrame'>\n",
      "RangeIndex: 442218 entries, 0 to 442217\n",
      "Data columns (total 8 columns):\n",
      " #   Column           Non-Null Count   Dtype   \n",
      "---  ------           --------------   -----   \n",
      " 0   date             442218 non-null  object  \n",
      " 1   current_path     442218 non-null  category\n",
      " 2   comes_from       442218 non-null  category\n",
      " 3   user_id          442218 non-null  int16   \n",
      " 4   ip               442218 non-null  category\n",
      " 5   http_user_agent  442218 non-null  category\n",
      " 6   country_code     442218 non-null  category\n",
      " 7   is_bot           442218 non-null  bool    \n",
      "dtypes: bool(1), category(5), int16(1), object(1)\n",
      "memory usage: 12.4+ MB\n"
     ]
    }
   ],
   "source": [
    "df.info()"
   ]
  },
  {
   "cell_type": "code",
   "execution_count": 57,
   "metadata": {},
   "outputs": [
    {
     "data": {
      "text/plain": [
       "[], Categories (99850, object): ['\"/-1 OR 2+167-167-1=0+0+0+1 -- /la-verdad-tra..., '\"/-1 OR 2+178-178-1=0+0+0+1 or 4XhBlrZt=/empr..., '\"/-1 OR 2+267-267-1=0+0+0+1 or k3l9U42I=/divi..., '\"/-1 OR 2+273-273-1=0+0+0+1 -- /eres-realment..., ..., 'https://www.inversionesyfinanzas.xyz/wp/wp-in..., 'https://www.inversionesyfinanzas.xyz/wpindex...., 'https://www.inversionesyfinanzas.xyz/xmlrp.ph..., 'https://www.inversionesyfinanzas.xyz/z21fn']"
      ]
     },
     "execution_count": 57,
     "metadata": {},
     "output_type": "execute_result"
    }
   ],
   "source": [
    "df[df[\"country_code\"] == \"Unknown\"][\"current_path\"].unique()"
   ]
  },
  {
   "cell_type": "code",
   "execution_count": 58,
   "metadata": {},
   "outputs": [
    {
     "data": {
      "text/html": [
       "<div>\n",
       "<style scoped>\n",
       "    .dataframe tbody tr th:only-of-type {\n",
       "        vertical-align: middle;\n",
       "    }\n",
       "\n",
       "    .dataframe tbody tr th {\n",
       "        vertical-align: top;\n",
       "    }\n",
       "\n",
       "    .dataframe thead th {\n",
       "        text-align: right;\n",
       "    }\n",
       "</style>\n",
       "<table border=\"1\" class=\"dataframe\">\n",
       "  <thead>\n",
       "    <tr style=\"text-align: right;\">\n",
       "      <th></th>\n",
       "      <th>date</th>\n",
       "      <th>current_path</th>\n",
       "      <th>comes_from</th>\n",
       "      <th>user_id</th>\n",
       "      <th>ip</th>\n",
       "      <th>http_user_agent</th>\n",
       "      <th>country_code</th>\n",
       "      <th>is_bot</th>\n",
       "    </tr>\n",
       "  </thead>\n",
       "  <tbody>\n",
       "    <tr>\n",
       "      <th>0</th>\n",
       "      <td>2022-03-09 03:32:07.129352+01:00</td>\n",
       "      <td>https://inversionesyfinanzas.xyz/publicaciones...</td>\n",
       "      <td>https://google.com</td>\n",
       "      <td>1</td>\n",
       "      <td>200.125.229.58</td>\n",
       "      <td>Mozilla/5.0 (Windows NT 10.0; Win64; x64) Appl...</td>\n",
       "      <td>EC</td>\n",
       "      <td>False</td>\n",
       "    </tr>\n",
       "    <tr>\n",
       "      <th>1</th>\n",
       "      <td>2022-03-09 04:34:44.020298+01:00</td>\n",
       "      <td>https://inversionesyfinanzas.xyz/publicaciones...</td>\n",
       "      <td>https://google.com</td>\n",
       "      <td>2</td>\n",
       "      <td>187.162.27.37</td>\n",
       "      <td>Mozilla/5.0 (iPhone; CPU iPhone OS 15_3_1 like...</td>\n",
       "      <td>MX</td>\n",
       "      <td>False</td>\n",
       "    </tr>\n",
       "    <tr>\n",
       "      <th>2</th>\n",
       "      <td>2022-03-09 04:35:32.797788+01:00</td>\n",
       "      <td>https://inversionesyfinanzas.xyz/publicaciones...</td>\n",
       "      <td>https://google.com</td>\n",
       "      <td>2</td>\n",
       "      <td>187.162.27.37</td>\n",
       "      <td>Mozilla/5.0 (iPhone; CPU iPhone OS 15_3_1 like...</td>\n",
       "      <td>MX</td>\n",
       "      <td>False</td>\n",
       "    </tr>\n",
       "    <tr>\n",
       "      <th>3</th>\n",
       "      <td>2022-03-11 16:07:03.689586+01:00</td>\n",
       "      <td>https://inversionesyfinanzas.xyz/</td>\n",
       "      <td>https://google.com</td>\n",
       "      <td>2</td>\n",
       "      <td>187.162.27.37</td>\n",
       "      <td>Mozilla/5.0 (iPhone; CPU iPhone OS 15_3_1 like...</td>\n",
       "      <td>MX</td>\n",
       "      <td>False</td>\n",
       "    </tr>\n",
       "    <tr>\n",
       "      <th>4</th>\n",
       "      <td>2022-03-09 09:17:12.909467+01:00</td>\n",
       "      <td>https://inversionesyfinanzas.xyz/definicion/ca...</td>\n",
       "      <td>https://google.com</td>\n",
       "      <td>3</td>\n",
       "      <td>187.207.19.1</td>\n",
       "      <td>Mozilla/5.0 (Windows NT 10.0; Win64; x64) Appl...</td>\n",
       "      <td>MX</td>\n",
       "      <td>False</td>\n",
       "    </tr>\n",
       "  </tbody>\n",
       "</table>\n",
       "</div>"
      ],
      "text/plain": [
       "                               date  \\\n",
       "0  2022-03-09 03:32:07.129352+01:00   \n",
       "1  2022-03-09 04:34:44.020298+01:00   \n",
       "2  2022-03-09 04:35:32.797788+01:00   \n",
       "3  2022-03-11 16:07:03.689586+01:00   \n",
       "4  2022-03-09 09:17:12.909467+01:00   \n",
       "\n",
       "                                        current_path          comes_from  \\\n",
       "0  https://inversionesyfinanzas.xyz/publicaciones...  https://google.com   \n",
       "1  https://inversionesyfinanzas.xyz/publicaciones...  https://google.com   \n",
       "2  https://inversionesyfinanzas.xyz/publicaciones...  https://google.com   \n",
       "3                  https://inversionesyfinanzas.xyz/  https://google.com   \n",
       "4  https://inversionesyfinanzas.xyz/definicion/ca...  https://google.com   \n",
       "\n",
       "   user_id              ip                                    http_user_agent  \\\n",
       "0        1  200.125.229.58  Mozilla/5.0 (Windows NT 10.0; Win64; x64) Appl...   \n",
       "1        2   187.162.27.37  Mozilla/5.0 (iPhone; CPU iPhone OS 15_3_1 like...   \n",
       "2        2   187.162.27.37  Mozilla/5.0 (iPhone; CPU iPhone OS 15_3_1 like...   \n",
       "3        2   187.162.27.37  Mozilla/5.0 (iPhone; CPU iPhone OS 15_3_1 like...   \n",
       "4        3    187.207.19.1  Mozilla/5.0 (Windows NT 10.0; Win64; x64) Appl...   \n",
       "\n",
       "  country_code  is_bot  \n",
       "0           EC   False  \n",
       "1           MX   False  \n",
       "2           MX   False  \n",
       "3           MX   False  \n",
       "4           MX   False  "
      ]
     },
     "execution_count": 58,
     "metadata": {},
     "output_type": "execute_result"
    }
   ],
   "source": [
    "df.head()"
   ]
  },
  {
   "cell_type": "markdown",
   "metadata": {},
   "source": [
    "users = df[df[\"is_bot\"]==False]\n",
    "users[\"current_path\"].value_counts()\n",
    "users[\"current_path_no_params\"] = users[\"current_path\"].apply(lambda x : x.split(\"?\")[0])\n",
    "users[\"current_path_no_params\"].value_counts()\n",
    "\n",
    "\n",
    "users.loc[\n",
    "        users[\"current_path_no_params\"].str.contains(\n",
    "            \"|\".join([\"sysdate\", \"sleep\", \"SELECT\", \"FROM\", \"PG_SLEEP\", \"now\", \"if\"])\n",
    "        ),\n",
    "        \"weird_path\",\n",
    "    ] = users[\"current_path_no_params\"]\n",
    "users[\"weird_path_fixed\"] = users[\"weird_path\"].dropna()"
   ]
  }
 ],
 "metadata": {
  "kernelspec": {
   "display_name": "Python 3.10.6 ('botvenv': venv)",
   "language": "python",
   "name": "python3"
  },
  "language_info": {
   "codemirror_mode": {
    "name": "ipython",
    "version": 3
   },
   "file_extension": ".py",
   "mimetype": "text/x-python",
   "name": "python",
   "nbconvert_exporter": "python",
   "pygments_lexer": "ipython3",
   "version": "3.10.6"
  },
  "orig_nbformat": 4,
  "vscode": {
   "interpreter": {
    "hash": "e2ca5c9e108a000e279c2baba42ee7778e9ce4b2a258bfb7b02702813b1a9f0a"
   }
  }
 },
 "nbformat": 4,
 "nbformat_minor": 2
}
